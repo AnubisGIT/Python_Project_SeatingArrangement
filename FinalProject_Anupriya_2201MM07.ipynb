{
  "nbformat": 4,
  "nbformat_minor": 0,
  "metadata": {
    "colab": {
      "provenance": [],
      "gpuType": "T4"
    },
    "kernelspec": {
      "name": "python3",
      "display_name": "Python 3"
    },
    "language_info": {
      "name": "python"
    },
    "accelerator": "GPU"
  },
  "cells": [
    {
      "cell_type": "markdown",
      "source": [
        "*Project Aim*:-\n",
        "\n",
        "The goal is to:\n",
        "\n",
        "**Allocate exam seating:**\n",
        "Assign students to rooms for exams while adhering to constraints like room capacity, seating density (dense or sparse), and buffer seats.\n",
        "\n",
        "\n",
        "**Generate attendance sheets: **\n",
        "For each room, create an attendance sheet with the roll numbers and names of the students allocated to that room, with spaces for invigilator and TA signatures.\n",
        "\n"
      ],
      "metadata": {
        "id": "SxDwvqnuARBX"
      }
    },
    {
      "cell_type": "markdown",
      "source": [
        "*Logic Used*\n",
        "**Data Organization:**\n",
        "\n",
        "Load data about students, exam schedules, rooms, and roll-to-name mapping from an Excel file.\n",
        "Organize it into tables (DataFrames) for easy manipulation.\n",
        "\n",
        "\n",
        "**Seating Allocation:**\n",
        "\n",
        "Assign students to rooms starting with Block 9, prioritizing lower floors, then allocate to LT halls if there’s an overflow.\n",
        "\n",
        "\n",
        "**Consider seating modes:**\n",
        "\n",
        "Dense: Use maximum room capacity, minus the buffer.\n",
        "Sparse: Use half the room capacity, minus the buffer.\n",
        "Allocate the largest courses first to minimize room fragmentation.\n",
        "\n",
        "\n",
        "**Attendance Sheets:**\n",
        "\n",
        "Create a detailed Excel sheet for each room, showing:\n",
        "Roll numbers.\n",
        "Names (mapped from roll numbers).\n",
        "Blank spaces for signatures.\n"
      ],
      "metadata": {
        "id": "gG0nzk4HAx80"
      }
    },
    {
      "cell_type": "markdown",
      "source": [
        "Step 1: Import Libraries\n",
        "We need specific Python libraries to handle data, Excel files, and formatting."
      ],
      "metadata": {
        "id": "2nxddDMeEYQz"
      }
    },
    {
      "cell_type": "markdown",
      "source": [
        "**pandas**: Handles tabular data (student data, timetable, etc.).\n",
        "openpyxl:\n",
        "Creates and formats Excel files.\n",
        "Border and Alignment:\n",
        "Add styles to attendance sheets."
      ],
      "metadata": {
        "id": "badfZmhyBPGd"
      }
    },
    {
      "cell_type": "code",
      "execution_count": 1,
      "metadata": {
        "colab": {
          "base_uri": "https://localhost:8080/"
        },
        "id": "Mu82t8X19JFe",
        "outputId": "ab866bc0-ef63-4a93-c3ad-0bff62d6df3b"
      },
      "outputs": [
        {
          "output_type": "stream",
          "name": "stdout",
          "text": [
            "Collecting openpyxl\n",
            "  Downloading openpyxl-3.1.5-py2.py3-none-any.whl.metadata (2.5 kB)\n",
            "Collecting et-xmlfile (from openpyxl)\n",
            "  Downloading et_xmlfile-2.0.0-py3-none-any.whl.metadata (2.7 kB)\n",
            "Downloading openpyxl-3.1.5-py2.py3-none-any.whl (250 kB)\n",
            "\u001b[?25l   \u001b[90m━━━━━━━━━━━━━━━━━━━━━━━━━━━━━━━━━━━━━━━━\u001b[0m \u001b[32m0.0/250.9 kB\u001b[0m \u001b[31m?\u001b[0m eta \u001b[36m-:--:--\u001b[0m\r\u001b[2K   \u001b[91m━━━━━━━━━━━━━━━━━━━━━━━━\u001b[0m\u001b[90m╺\u001b[0m\u001b[90m━━━━━━━━━━━━━━━\u001b[0m \u001b[32m153.6/250.9 kB\u001b[0m \u001b[31m4.4 MB/s\u001b[0m eta \u001b[36m0:00:01\u001b[0m\r\u001b[2K   \u001b[90m━━━━━━━━━━━━━━━━━━━━━━━━━━━━━━━━━━━━━━━━\u001b[0m \u001b[32m250.9/250.9 kB\u001b[0m \u001b[31m4.2 MB/s\u001b[0m eta \u001b[36m0:00:00\u001b[0m\n",
            "\u001b[?25hDownloading et_xmlfile-2.0.0-py3-none-any.whl (18 kB)\n",
            "Installing collected packages: et-xmlfile, openpyxl\n",
            "Successfully installed et-xmlfile-2.0.0 openpyxl-3.1.5\n"
          ]
        }
      ],
      "source": [
        "# Install openpyxl for handling Excel files\n",
        "!pip install openpyxl\n",
        "\n",
        "# Import required libraries\n",
        "import pandas as pd\n",
        "from openpyxl import Workbook\n",
        "from openpyxl.utils.dataframe import dataframe_to_rows\n",
        "from openpyxl.styles import Alignment, Border, Side\n"
      ]
    },
    {
      "cell_type": "markdown",
      "source": [
        "Step 2: Load Data\n",
        "We load the data from an Excel file. This file contains:\n",
        "\n",
        "Student registrations (ip_1): Links roll numbers to courses.\n",
        "Timetable (ip_2): Lists exams, dates, and shifts.\n",
        "Room data (ip_3): Specifies room capacities and blocks.\n",
        "Roll-to-name mapping (ip_4): Maps roll numbers to student names.\n",
        "python\n",
        "Copy code\n"
      ],
      "metadata": {
        "id": "f03R8M_fCVMi"
      }
    },
    {
      "cell_type": "code",
      "source": [
        "def create_attendance_sheet(attendance_df, exam_date, course_code, room_id, shift, roll_to_name_map):\n",
        "    \"\"\"\n",
        "    Create a detailed attendance sheet for the specified room and shift.\n",
        "    \"\"\"\n",
        "    # Add student names to the attendance data\n",
        "    attendance_df[\"Student_Name\"] = attendance_df[\"Roll\"].map(roll_to_name_map).fillna(\"Name Not Found\")\n",
        "    attendance_df[\"Signature\"] = \"\"\n",
        "\n",
        "    # Add extra rows for invigilators and TA signatures\n",
        "    extra_rows = pd.DataFrame({\"Roll\": [\"\"] * 5, \"Student_Name\": [\"\"] * 5, \"Signature\": [\"\"] * 5})\n",
        "    attendance_df = pd.concat([attendance_df, extra_rows], ignore_index=True)\n",
        "\n",
        "    # Prepare Excel file\n",
        "    output_file = f\"{exam_date.strftime('%d_%m_%Y')}_{course_code}_{room_id}_{shift.lower()}.xlsx\"\n",
        "    workbook = Workbook()\n",
        "    sheet = workbook.active\n",
        "    sheet.title = f\"Room {room_id}\"\n",
        "\n",
        "    # Add attendance data to the sheet\n",
        "    for row in dataframe_to_rows(attendance_df, index=False, header=True):\n",
        "        sheet.append(row)\n",
        "\n",
        "    # Adjust column widths\n",
        "    sheet.column_dimensions[\"A\"].width = 15\n",
        "    sheet.column_dimensions[\"B\"].width = max(15, attendance_df[\"Student_Name\"].str.len().max() + 2)\n",
        "    sheet.column_dimensions[\"C\"].width = 20\n",
        "\n",
        "    # Style the sheet\n",
        "    border_style = Border(\n",
        "        left=Side(style=\"thin\"),\n",
        "        right=Side(style=\"thin\"),\n",
        "        top=Side(style=\"thin\"),\n",
        "        bottom=Side(style=\"thin\")\n",
        "    )\n",
        "    for row in sheet.iter_rows():\n",
        "        for cell in row:\n",
        "            cell.alignment = Alignment(horizontal=\"center\", vertical=\"center\")\n",
        "            cell.border = border_style\n",
        "\n",
        "    # Save the Excel file\n",
        "    workbook.save(output_file)\n",
        "    print(f\"Attendance sheet saved: {output_file}\")\n"
      ],
      "metadata": {
        "id": "xF2RXgtv9qT4"
      },
      "execution_count": 2,
      "outputs": []
    },
    {
      "cell_type": "markdown",
      "source": [
        "Step 3: Allocate Seating\n",
        "Here, we allocate rooms for each course based on:\n",
        "\n",
        "Priority:\n",
        "Start with Block 9, filling lower floors first.\n",
        "If Block 9 is full, move to LT halls.\n",
        "Seating Mode:\n",
        "Adjust maximum capacity based on the buffer and seating mode (dense/sparse)."
      ],
      "metadata": {
        "id": "3chlvvwxCqzq"
      }
    },
    {
      "cell_type": "code",
      "source": [
        "def load_data(file_path):\n",
        "    \"\"\"\n",
        "    Load data from an Excel file.\n",
        "    \"\"\"\n",
        "    xls = pd.ExcelFile(file_path)\n",
        "    student_df = pd.read_excel(xls, sheet_name=\"ip_1\", skiprows=1)\n",
        "    timetable_df = pd.read_excel(xls, sheet_name=\"ip_2\", skiprows=1)\n",
        "    room_df = pd.read_excel(xls, sheet_name=\"ip_3\")\n",
        "    roll_to_name_df = pd.read_excel(xls, sheet_name=\"ip_4\")\n",
        "\n",
        "    return student_df, timetable_df, room_df, roll_to_name_df\n"
      ],
      "metadata": {
        "id": "Wv3gELgi93ee"
      },
      "execution_count": 3,
      "outputs": []
    },
    {
      "cell_type": "markdown",
      "source": [
        "Step 4: Create Attendance Sheets\n",
        "For each room, generate an attendance sheet with:\n",
        "\n",
        "Student Details:\n",
        "Roll numbers and names.\n",
        "Spaces for Signatures:\n",
        "Blank rows for invigilator and TA signatures.\n",
        "python\n",
        "Copy code\n",
        "\n"
      ],
      "metadata": {
        "id": "eZvlUA6OEAW6"
      }
    },
    {
      "cell_type": "code",
      "source": [
        "def get_max_capacity(room_capacity, seating_mode, buffer_seats):\n",
        "    \"\"\"\n",
        "    Calculates the maximum capacity of a room based on seating mode and buffer seats.\n",
        "    \"\"\"\n",
        "    if seating_mode == \"dense\":\n",
        "        return room_capacity - buffer_seats\n",
        "    elif seating_mode == \"sparse\":\n",
        "        return (room_capacity - buffer_seats) // 2  # Assume sparse seating uses half the capacity\n",
        "    else:\n",
        "        return room_capacity - buffer_seats  # Default to dense seating if mode is invalid\n",
        "\n",
        "\n",
        "def allocate_seating(student_df, timetable_df, room_df, buffer_seats, seating_mode):\n",
        "    \"\"\"\n",
        "    Allocate rooms to courses based on student count, block priority, and seating mode.\n",
        "    \"\"\"\n",
        "    timetable_df[\"Date\"] = pd.to_datetime(timetable_df[\"Date\"], dayfirst=True)\n",
        "\n",
        "    # Separate rooms by block\n",
        "    block_9 = room_df[room_df[\"Block\"] == 9].sort_values(by=[\"Room No.\"])\n",
        "    lt_rooms = room_df[room_df[\"Block\"] == \"LT\"].sort_values(by=\"Exam Capacity\", ascending=False)\n",
        "\n",
        "    course_distribution = student_df.groupby(\"course_code\")[\"rollno\"].count().reset_index()\n",
        "    course_distribution.columns = [\"course_code\", \"student_count\"]\n",
        "    course_to_students = student_df.groupby(\"course_code\")[\"rollno\"].apply(list).to_dict()\n",
        "\n",
        "    arrangement = []\n",
        "\n",
        "    for _, session in timetable_df.iterrows():\n",
        "        for time in [\"Morning\", \"Evening\"]:\n",
        "            if pd.isna(session[time]):\n",
        "                continue\n",
        "\n",
        "            courses = session[time].split(\"; \")\n",
        "            course_sizes = {\n",
        "                course: course_distribution[course_distribution[\"course_code\"] == course][\"student_count\"].values[0]\n",
        "                for course in courses\n",
        "                if course in course_distribution[\"course_code\"].values\n",
        "            }\n",
        "            sorted_courses = sorted(course_sizes.items(), key=lambda x: x[1], reverse=True)\n",
        "\n",
        "            for course, student_count in sorted_courses:\n",
        "                allocated_students = 0\n",
        "                assigned_rooms = []\n",
        "\n",
        "                # Assign rooms in Block 9\n",
        "                for _, room in block_9.iterrows():\n",
        "                    if allocated_students >= student_count:\n",
        "                        break\n",
        "                    room_capacity = room[\"Exam Capacity\"]\n",
        "                    max_capacity = get_max_capacity(room_capacity, seating_mode, buffer_seats)\n",
        "                    allocation = min(max_capacity, student_count - allocated_students)\n",
        "                    allocated_students += allocation\n",
        "                    assigned_rooms.append((room[\"Room No.\"], allocation))\n",
        "\n",
        "                # Assign rooms in LT halls if needed\n",
        "                for _, room in lt_rooms.iterrows():\n",
        "                    if allocated_students >= student_count:\n",
        "                        break\n",
        "                    room_capacity = room[\"Exam Capacity\"]\n",
        "                    max_capacity = get_max_capacity(room_capacity, seating_mode, buffer_seats)\n",
        "                    allocation = min(max_capacity, student_count - allocated_students)\n",
        "                    allocated_students += allocation\n",
        "                    assigned_rooms.append((room[\"Room No.\"], allocation))\n",
        "\n",
        "                # Record allocation details\n",
        "                for room_id, allocated in assigned_rooms:\n",
        "                    students = course_to_students[course][:allocated]\n",
        "                    course_to_students[course] = course_to_students[course][allocated:]\n",
        "                    arrangement.append({\n",
        "                        \"Date\": session[\"Date\"],\n",
        "                        \"Shift\": time,\n",
        "                        \"Course_Code\": course,\n",
        "                        \"Room\": room_id,\n",
        "                        \"Allocated_Students\": allocated,\n",
        "                        \"Students\": \"; \".join(students)\n",
        "                    })\n",
        "\n",
        "    return pd.DataFrame(arrangement)\n",
        "\n",
        "\n",
        "\n",
        "def create_attendance_sheets(final_arrangement_df, roll_to_name_dict):\n",
        "    \"\"\"Generate attendance sheets for each room and shift.\"\"\"\n",
        "    # Border styling for Excel output\n",
        "    cell_border = Border(\n",
        "        left=Side(style=\"thin\"),\n",
        "        right=Side(style=\"thin\"),\n",
        "        top=Side(style=\"thin\"),\n",
        "        bottom=Side(style=\"thin\")\n",
        "    )\n",
        "\n",
        "    # Create attendance sheet per room and shift\n",
        "    for _, seating_row in final_arrangement_df.iterrows():\n",
        "        exam_date = seating_row[\"Date\"]\n",
        "        shift = seating_row[\"Shift\"]\n",
        "        course_code = seating_row[\"Course_Code\"]\n",
        "        room_number = seating_row[\"Room\"]\n",
        "        students = seating_row[\"Students\"].split(\";\")\n",
        "\n",
        "        # Create attendance DataFrame\n",
        "        attendance_data = pd.DataFrame({\"Roll\": students})\n",
        "        attendance_data[\"Roll\"] = attendance_data[\"Roll\"].str.strip()\n",
        "        attendance_data[\"Name\"] = attendance_data[\"Roll\"].map(roll_to_name_dict).fillna(\"Unknown Name\")\n",
        "        attendance_data[\"Signature\"] = \"\"\n",
        "\n",
        "        # Add empty rows for invigilator and TAs' signature at the end\n",
        "        signature_rows = pd.DataFrame({\n",
        "            \"Roll\": [\"Invigilator\", \"TA 1\", \"TA 2\"],\n",
        "            \"Name\": [\"\", \"\", \"\"],\n",
        "            \"Signature\": [\"\", \"\", \"\"]\n",
        "        })\n",
        "        attendance_data = pd.concat([attendance_data, signature_rows], ignore_index=True)\n",
        "\n",
        "        # Generate Excel file for each room and shift\n",
        "        file_name = f\"{exam_date.strftime('%d_%m_%Y')}_{course_code}_{room_number}_{shift.lower()}.xlsx\"\n",
        "\n",
        "        wb = Workbook()\n",
        "        ws = wb.active\n",
        "        ws.title = f\"{course_code} Room {room_number}\"\n",
        "\n",
        "        # Write data to the sheet\n",
        "        for row in dataframe_to_rows(attendance_data, index=False, header=True):\n",
        "            ws.append(row)\n",
        "\n",
        "        # Set column widths based on name length\n",
        "        max_name_len = attendance_data[\"Name\"].str.len().max()\n",
        "        ws.column_dimensions[\"B\"].width = max(15, max_name_len + 2)\n",
        "\n",
        "        # Apply formatting\n",
        "        for row in ws.iter_rows():\n",
        "            for cell in row:\n",
        "                cell.alignment = Alignment(horizontal=\"center\", vertical=\"center\")\n",
        "                cell.border = cell_border\n",
        "\n",
        "        wb.save(file_name)\n",
        "\n",
        "    print(\"Attendance sheets generated successfully.\")\n"
      ],
      "metadata": {
        "id": "4FxQuhjk-BmU"
      },
      "execution_count": 4,
      "outputs": []
    },
    {
      "cell_type": "markdown",
      "source": [
        "Step 5: Combine Everything\n",
        "Combine the components into a single function for execution.\n",
        "\n",
        "python\n",
        "Copy code\n"
      ],
      "metadata": {
        "id": "nXZn5n8LDEdL"
      }
    },
    {
      "cell_type": "code",
      "source": [
        "def main():\n",
        "    # Load the input file\n",
        "    file_path = \"/content/py_project.xlsx\"\n",
        "    student_df, timetable_df, room_df, roll_to_name_df = load_data(file_path)\n",
        "\n",
        "    # Prompt user for configuration\n",
        "    buffer_seats = int(input(\"Enter the number of buffer seats per room: \"))\n",
        "    seating_mode = input(\"Select seating mode ('dense' or 'sparse'): \").strip().lower()\n",
        "    if seating_mode not in [\"dense\", \"sparse\"]:\n",
        "        seating_mode = \"dense\"\n",
        "        print(\"Invalid mode. Defaulting to 'dense'.\")\n",
        "\n",
        "    # Roll number to name mapping\n",
        "    roll_to_name_map = dict(zip(roll_to_name_df[\"Roll\"].astype(str), roll_to_name_df[\"Name\"]))\n",
        "\n",
        "    # Allocate seating\n",
        "    arrangement_df = allocate_seating(student_df, timetable_df, room_df, buffer_seats, seating_mode)\n",
        "    arrangement_df.to_excel(\"seating_arrangement.xlsx\", index=False)\n",
        "    print(\"Seating arrangement saved to 'seating_arrangement.xlsx'.\")\n",
        "\n",
        "    # Generate attendance sheets\n",
        "    for _, row in arrangement_df.iterrows():\n",
        "        students = row[\"Students\"].split(\"; \")\n",
        "        attendance_df = pd.DataFrame({\"Roll\": students})\n",
        "        create_attendance_sheet(\n",
        "            attendance_df,\n",
        "            row[\"Date\"],\n",
        "            row[\"Course_Code\"],\n",
        "            row[\"Room\"],\n",
        "            row[\"Shift\"],\n",
        "            roll_to_name_map\n",
        "        )\n",
        "    print(\"Attendance sheets generated successfully.\")\n",
        "\n",
        "if __name__ == \"__main__\":\n",
        "    main()\n"
      ],
      "metadata": {
        "id": "wwkMc3b0-DaU"
      },
      "execution_count": null,
      "outputs": []
    },
    {
      "cell_type": "markdown",
      "source": [],
      "metadata": {
        "id": "lFvYL68TAPW_"
      }
    }
  ]
}
